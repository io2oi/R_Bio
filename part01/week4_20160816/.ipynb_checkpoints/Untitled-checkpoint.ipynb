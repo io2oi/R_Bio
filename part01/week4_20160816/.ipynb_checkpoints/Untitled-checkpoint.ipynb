{
 "cells": [
  {
   "cell_type": "markdown",
   "metadata": {},
   "source": [
    "[[TOC]]"
   ]
  },
  {
   "cell_type": "markdown",
   "metadata": {},
   "source": [
    "## sequence 가지고 오기\n",
    "- uniprot에 접속 한다.\n",
    "- http://www.uniprot.org/\n",
    "- 검색창에 UniProtKB 에서 Q9CD83 이나 A0PQ23 을 친다\n",
    "- Format 에서 fasta를 선택해서 내려받는다"
   ]
  },
  {
   "cell_type": "code",
   "execution_count": 32,
   "metadata": {
    "collapsed": false
   },
   "outputs": [
    {
     "data": {
      "text/plain": [
       "  [1] \"m\" \"t\" \"n\" \"r\" \"t\" \"l\" \"s\" \"r\" \"e\" \"e\" \"i\" \"r\" \"k\" \"l\" \"d\" \"r\" \"d\" \"l\"\n",
       " [19] \"r\" \"i\" \"l\" \"v\" \"a\" \"t\" \"n\" \"g\" \"t\" \"l\" \"t\" \"r\" \"v\" \"l\" \"n\" \"v\" \"v\" \"a\"\n",
       " [37] \"n\" \"e\" \"e\" \"i\" \"v\" \"v\" \"d\" \"i\" \"i\" \"n\" \"q\" \"q\" \"l\" \"l\" \"d\" \"v\" \"a\" \"p\"\n",
       " [55] \"k\" \"i\" \"p\" \"e\" \"l\" \"e\" \"n\" \"l\" \"k\" \"i\" \"g\" \"r\" \"i\" \"l\" \"q\" \"r\" \"d\" \"i\"\n",
       " [73] \"l\" \"l\" \"k\" \"g\" \"q\" \"k\" \"s\" \"g\" \"i\" \"l\" \"f\" \"v\" \"a\" \"a\" \"e\" \"s\" \"l\" \"i\"\n",
       " [91] \"v\" \"i\" \"d\" \"l\" \"l\" \"p\" \"t\" \"a\" \"i\" \"t\" \"t\" \"y\" \"l\" \"t\" \"k\" \"t\" \"h\" \"h\"\n",
       "[109] \"p\" \"i\" \"g\" \"e\" \"i\" \"m\" \"a\" \"a\" \"s\" \"r\" \"i\" \"e\" \"t\" \"y\" \"k\" \"e\" \"d\" \"a\"\n",
       "[127] \"q\" \"v\" \"w\" \"i\" \"g\" \"d\" \"l\" \"p\" \"c\" \"w\" \"l\" \"a\" \"d\" \"y\" \"g\" \"y\" \"w\" \"d\"\n",
       "[145] \"l\" \"p\" \"k\" \"r\" \"a\" \"v\" \"g\" \"r\" \"r\" \"y\" \"r\" \"i\" \"i\" \"a\" \"g\" \"g\" \"q\" \"p\"\n",
       "[163] \"v\" \"i\" \"i\" \"t\" \"t\" \"e\" \"y\" \"f\" \"l\" \"r\" \"s\" \"v\" \"f\" \"q\" \"d\" \"t\" \"p\" \"r\"\n",
       "[181] \"e\" \"e\" \"l\" \"d\" \"r\" \"c\" \"q\" \"y\" \"s\" \"n\" \"d\" \"i\" \"d\" \"t\" \"r\" \"s\" \"g\" \"d\"\n",
       "[199] \"r\" \"f\" \"v\" \"l\" \"h\" \"g\" \"r\" \"v\" \"f\" \"k\" \"n\" \"l\"\n",
       "attr(,\"name\")\n",
       "[1] \"sp|Q9CD83|PHBS_MYCLE\"\n",
       "attr(,\"Annot\")\n",
       "[1] \">sp|Q9CD83|PHBS_MYCLE Chorismate pyruvate-lyase OS=Mycobacterium leprae (strain TN) GN=ML0133 PE=3 SV=1\"\n",
       "attr(,\"class\")\n",
       "[1] \"SeqFastadna\""
      ]
     },
     "metadata": {},
     "output_type": "display_data"
    }
   ],
   "source": [
    "library(\"seqinr\")\n",
    "leprae <- read.fasta(file = \"Q9CD83.fasta\")\n",
    "ulcerans <- read.fasta(file = \"A0PQ23.fasta\")\n",
    "lepraeseq <- leprae[[1]]\n",
    "ulceransseq <- ulcerans[[1]]\n",
    "lepraeseq # Display the contents of the vector \"lepraeseq\""
   ]
  },
  {
   "cell_type": "code",
   "execution_count": 33,
   "metadata": {
    "collapsed": false
   },
   "outputs": [
    {
     "data": {
      "text/html": [
       "<dl>\n",
       "\t<dt>$name</dt>\n",
       "\t\t<dd>\"sp|Q9CD83|PHBS_MYCLE\"</dd>\n",
       "\t<dt>$Annot</dt>\n",
       "\t\t<dd>\"&gt;sp|Q9CD83|PHBS_MYCLE Chorismate pyruvate-lyase OS=Mycobacterium leprae (strain TN) GN=ML0133 PE=3 SV=1\"</dd>\n",
       "\t<dt>$class</dt>\n",
       "\t\t<dd>\"SeqFastadna\"</dd>\n",
       "</dl>\n"
      ],
      "text/latex": [
       "\\begin{description}\n",
       "\\item[\\$name] \"sp\\textbar{}Q9CD83\\textbar{}PHBS\\_MYCLE\"\n",
       "\\item[\\$Annot] \">sp\\textbar{}Q9CD83\\textbar{}PHBS\\_MYCLE Chorismate pyruvate-lyase OS=Mycobacterium leprae (strain TN) GN=ML0133 PE=3 SV=1\"\n",
       "\\item[\\$class] \"SeqFastadna\"\n",
       "\\end{description}\n"
      ],
      "text/markdown": [
       "$name\n",
       ":   \"sp|Q9CD83|PHBS_MYCLE\"\n",
       "$Annot\n",
       ":   \"&gt;sp|Q9CD83|PHBS_MYCLE Chorismate pyruvate-lyase OS=Mycobacterium leprae (strain TN) GN=ML0133 PE=3 SV=1\"\n",
       "$class\n",
       ":   \"SeqFastadna\"\n",
       "\n",
       "\n"
      ],
      "text/plain": [
       "$name\n",
       "[1] \"sp|Q9CD83|PHBS_MYCLE\"\n",
       "\n",
       "$Annot\n",
       "[1] \">sp|Q9CD83|PHBS_MYCLE Chorismate pyruvate-lyase OS=Mycobacterium leprae (strain TN) GN=ML0133 PE=3 SV=1\"\n",
       "\n",
       "$class\n",
       "[1] \"SeqFastadna\"\n"
      ]
     },
     "metadata": {},
     "output_type": "display_data"
    }
   ],
   "source": [
    "attributes(lepraeseq)"
   ]
  },
  {
   "cell_type": "code",
   "execution_count": 34,
   "metadata": {
    "collapsed": false
   },
   "outputs": [
    {
     "data": {
      "image/png": "[encoded data removed]",
      "text/plain": [
       "plot without title"
      ]
     },
     "metadata": {
      "image/svg+xml": {
       "isolated": true
      }
     },
     "output_type": "display_data"
    }
   ],
   "source": [
    "dotPlot(lepraeseq, ulceransseq)"
   ]
  },
  {
   "cell_type": "markdown",
   "metadata": {},
   "source": [
    "## pairewise alignment\n",
    "bioconductor의 Biostrings 라이브러리를 이용하여 pairewise alignment\n",
    "\n",
    "* 우선 bioconductor 설치:\n",
    "[연결](https://a-little-book-of-r-for-bioinformatics.readthedocs.io/en/latest/src/installr.html#how-to-install-a-bioconductor-r-package)\n",
    "\n",
    "````R\n",
    "> source(\"http://bioconductor.org/biocLite.R\")\n",
    "> biocLite(\"Biostrings\")\n",
    "````\n",
    "\n",
    "* 가장 기본적인 Needleman-Wunsch algorithm: [위키페디아](https://en.wikipedia.org/wiki/Needleman%E2%80%93Wunsch_algorithm)"
   ]
  },
  {
   "cell_type": "markdown",
   "metadata": {},
   "source": [
    "### 우선 시작"
   ]
  },
  {
   "cell_type": "code",
   "execution_count": 29,
   "metadata": {
    "collapsed": false
   },
   "outputs": [
    {
     "data": {
      "text/html": [
       "<table>\n",
       "<thead><tr><th></th><th scope=col>A</th><th scope=col>C</th><th scope=col>G</th><th scope=col>T</th></tr></thead>\n",
       "<tbody>\n",
       "\t<tr><th scope=row>A</th><td> 2</td><td>-1</td><td>-1</td><td>-1</td></tr>\n",
       "\t<tr><th scope=row>C</th><td>-1</td><td> 2</td><td>-1</td><td>-1</td></tr>\n",
       "\t<tr><th scope=row>G</th><td>-1</td><td>-1</td><td> 2</td><td>-1</td></tr>\n",
       "\t<tr><th scope=row>T</th><td>-1</td><td>-1</td><td>-1</td><td> 2</td></tr>\n",
       "</tbody>\n",
       "</table>\n"
      ],
      "text/latex": [
       "\\begin{tabular}{r|llll}\n",
       "  & A & C & G & T\\\\\n",
       "\\hline\n",
       "\tA &  2 & -1 & -1 & -1\\\\\n",
       "\tC & -1 &  2 & -1 & -1\\\\\n",
       "\tG & -1 & -1 &  2 & -1\\\\\n",
       "\tT & -1 & -1 & -1 &  2\\\\\n",
       "\\end{tabular}\n"
      ],
      "text/markdown": [
       "1. 2\n",
       "2. -1\n",
       "3. -1\n",
       "4. -1\n",
       "5. -1\n",
       "6. 2\n",
       "7. -1\n",
       "8. -1\n",
       "9. -1\n",
       "10. -1\n",
       "11. 2\n",
       "12. -1\n",
       "13. -1\n",
       "14. -1\n",
       "15. -1\n",
       "16. 2\n",
       "\n",
       "\n"
      ],
      "text/plain": [
       "   A  C  G  T\n",
       "A  2 -1 -1 -1\n",
       "C -1  2 -1 -1\n",
       "G -1 -1  2 -1\n",
       "T -1 -1 -1  2"
      ]
     },
     "metadata": {},
     "output_type": "display_data"
    }
   ],
   "source": [
    "#install.packages(\"Biostrings\")\n",
    "library(Biostrings)\n",
    "sigma <- nucleotideSubstitutionMatrix(match = 2, mismatch = -1, baseOnly = TRUE)\n",
    "sigma # Print out the matrix"
   ]
  },
  {
   "cell_type": "code",
   "execution_count": 30,
   "metadata": {
    "collapsed": false
   },
   "outputs": [
    {
     "data": {
      "text/plain": [
       "Global PairwiseAlignmentsSingleSubject (1 of 1)\n",
       "pattern: [1] GAATTC \n",
       "subject: [1] GA-TTA \n",
       "score: -3 "
      ]
     },
     "metadata": {},
     "output_type": "display_data"
    }
   ],
   "source": [
    "s1 <- \"GAATTC\"\n",
    "s2 <- \"GATTA\"\n",
    "globalAligns1s2 <- pairwiseAlignment(s1, s2, substitutionMatrix = sigma, gapOpening = -2, gapExtension = -8, scoreOnly = FALSE)\n",
    "globalAligns1s2 # Print out the optimal alignment and its score"
   ]
  },
  {
   "cell_type": "markdown",
   "metadata": {},
   "source": [
    "### protein 의 pairewise alignment"
   ]
  },
  {
   "cell_type": "code",
   "execution_count": 31,
   "metadata": {
    "collapsed": false
   },
   "outputs": [
    {
     "data": {
      "text/html": [
       "<table>\n",
       "<thead><tr><th></th><th scope=col>A</th><th scope=col>R</th><th scope=col>N</th><th scope=col>D</th><th scope=col>C</th><th scope=col>Q</th><th scope=col>E</th><th scope=col>G</th><th scope=col>H</th><th scope=col>I</th><th scope=col>...</th><th scope=col>P</th><th scope=col>S</th><th scope=col>T</th><th scope=col>W</th><th scope=col>Y</th><th scope=col>V</th><th scope=col>B</th><th scope=col>Z</th><th scope=col>X</th><th scope=col>*</th></tr></thead>\n",
       "<tbody>\n",
       "\t<tr><th scope=row>A</th><td>5  </td><td>-2 </td><td>-1 </td><td>-2 </td><td>-1 </td><td>-1 </td><td>-1 </td><td>0  </td><td>-2 </td><td>-1 </td><td>...</td><td>-1 </td><td>1  </td><td>0  </td><td>-3 </td><td>-2 </td><td>0  </td><td>-2 </td><td>-1 </td><td>-1 </td><td>-5 </td></tr>\n",
       "\t<tr><th scope=row>R</th><td>-2 </td><td>7  </td><td>-1 </td><td>-2 </td><td>-4 </td><td>1  </td><td>0  </td><td>-3 </td><td>0  </td><td>-4 </td><td>...</td><td>-3 </td><td>-1 </td><td>-1 </td><td>-3 </td><td>-1 </td><td>-3 </td><td>-1 </td><td>0  </td><td>-1 </td><td>-5 </td></tr>\n",
       "\t<tr><th scope=row>N</th><td>-1 </td><td>-1 </td><td>7  </td><td>2  </td><td>-2 </td><td>0  </td><td>0  </td><td>0  </td><td>1  </td><td>-3 </td><td>...</td><td>-2 </td><td>1  </td><td>0  </td><td>-4 </td><td>-2 </td><td>-3 </td><td>4  </td><td>0  </td><td>-1 </td><td>-5 </td></tr>\n",
       "\t<tr><th scope=row>D</th><td>-2 </td><td>-2 </td><td>2  </td><td>8  </td><td>-4 </td><td>0  </td><td>2  </td><td>-1 </td><td>-1 </td><td>-4 </td><td>...</td><td>-1 </td><td>0  </td><td>-1 </td><td>-5 </td><td>-3 </td><td>-4 </td><td>5  </td><td>1  </td><td>-1 </td><td>-5 </td></tr>\n",
       "\t<tr><th scope=row>C</th><td>-1 </td><td>-4 </td><td>-2 </td><td>-4 </td><td>13 </td><td>-3 </td><td>-3 </td><td>-3 </td><td>-3 </td><td>-2 </td><td>...</td><td>-4 </td><td>-1 </td><td>-1 </td><td>-5 </td><td>-3 </td><td>-1 </td><td>-3 </td><td>-3 </td><td>-2 </td><td>-5 </td></tr>\n",
       "\t<tr><th scope=row>Q</th><td>-1 </td><td>1  </td><td>0  </td><td>0  </td><td>-3 </td><td>7  </td><td>2  </td><td>-2 </td><td>1  </td><td>-3 </td><td>...</td><td>-1 </td><td>0  </td><td>-1 </td><td>-1 </td><td>-1 </td><td>-3 </td><td>0  </td><td>4  </td><td>-1 </td><td>-5 </td></tr>\n",
       "\t<tr><th scope=row>E</th><td>-1 </td><td>0  </td><td>0  </td><td>2  </td><td>-3 </td><td>2  </td><td>6  </td><td>-3 </td><td>0  </td><td>-4 </td><td>...</td><td>-1 </td><td>-1 </td><td>-1 </td><td>-3 </td><td>-2 </td><td>-3 </td><td>1  </td><td>5  </td><td>-1 </td><td>-5 </td></tr>\n",
       "\t<tr><th scope=row>G</th><td>0  </td><td>-3 </td><td>0  </td><td>-1 </td><td>-3 </td><td>-2 </td><td>-3 </td><td>8  </td><td>-2 </td><td>-4 </td><td>...</td><td>-2 </td><td>0  </td><td>-2 </td><td>-3 </td><td>-3 </td><td>-4 </td><td>-1 </td><td>-2 </td><td>-2 </td><td>-5 </td></tr>\n",
       "\t<tr><th scope=row>H</th><td>-2 </td><td>0  </td><td>1  </td><td>-1 </td><td>-3 </td><td>1  </td><td>0  </td><td>-2 </td><td>10 </td><td>-4 </td><td>...</td><td>-2 </td><td>-1 </td><td>-2 </td><td>-3 </td><td>2  </td><td>-4 </td><td>0  </td><td>0  </td><td>-1 </td><td>-5 </td></tr>\n",
       "\t<tr><th scope=row>I</th><td>-1 </td><td>-4 </td><td>-3 </td><td>-4 </td><td>-2 </td><td>-3 </td><td>-4 </td><td>-4 </td><td>-4 </td><td>5  </td><td>...</td><td>-3 </td><td>-3 </td><td>-1 </td><td>-3 </td><td>-1 </td><td>4  </td><td>-4 </td><td>-3 </td><td>-1 </td><td>-5 </td></tr>\n",
       "\t<tr><th scope=row>L</th><td>-2 </td><td>-3 </td><td>-4 </td><td>-4 </td><td>-2 </td><td>-2 </td><td>-3 </td><td>-4 </td><td>-3 </td><td>2  </td><td>...</td><td>-4 </td><td>-3 </td><td>-1 </td><td>-2 </td><td>-1 </td><td>1  </td><td>-4 </td><td>-3 </td><td>-1 </td><td>-5 </td></tr>\n",
       "\t<tr><th scope=row>K</th><td>-1 </td><td>3  </td><td>0  </td><td>-1 </td><td>-3 </td><td>2  </td><td>1  </td><td>-2 </td><td>0  </td><td>-3 </td><td>...</td><td>-1 </td><td>0  </td><td>-1 </td><td>-3 </td><td>-2 </td><td>-3 </td><td>0  </td><td>1  </td><td>-1 </td><td>-5 </td></tr>\n",
       "\t<tr><th scope=row>M</th><td>-1 </td><td>-2 </td><td>-2 </td><td>-4 </td><td>-2 </td><td>0  </td><td>-2 </td><td>-3 </td><td>-1 </td><td>2  </td><td>...</td><td>-3 </td><td>-2 </td><td>-1 </td><td>-1 </td><td>0  </td><td>1  </td><td>-3 </td><td>-1 </td><td>-1 </td><td>-5 </td></tr>\n",
       "\t<tr><th scope=row>F</th><td>-3 </td><td>-3 </td><td>-4 </td><td>-5 </td><td>-2 </td><td>-4 </td><td>-3 </td><td>-4 </td><td>-1 </td><td>0  </td><td>...</td><td>-4 </td><td>-3 </td><td>-2 </td><td>1  </td><td>4  </td><td>-1 </td><td>-4 </td><td>-4 </td><td>-2 </td><td>-5 </td></tr>\n",
       "\t<tr><th scope=row>P</th><td>-1 </td><td>-3 </td><td>-2 </td><td>-1 </td><td>-4 </td><td>-1 </td><td>-1 </td><td>-2 </td><td>-2 </td><td>-3 </td><td>...</td><td>10 </td><td>-1 </td><td>-1 </td><td>-4 </td><td>-3 </td><td>-3 </td><td>-2 </td><td>-1 </td><td>-2 </td><td>-5 </td></tr>\n",
       "\t<tr><th scope=row>S</th><td>1  </td><td>-1 </td><td>1  </td><td>0  </td><td>-1 </td><td>0  </td><td>-1 </td><td>0  </td><td>-1 </td><td>-3 </td><td>...</td><td>-1 </td><td>5  </td><td>2  </td><td>-4 </td><td>-2 </td><td>-2 </td><td>0  </td><td>0  </td><td>-1 </td><td>-5 </td></tr>\n",
       "\t<tr><th scope=row>T</th><td>0  </td><td>-1 </td><td>0  </td><td>-1 </td><td>-1 </td><td>-1 </td><td>-1 </td><td>-2 </td><td>-2 </td><td>-1 </td><td>...</td><td>-1 </td><td>2  </td><td>5  </td><td>-3 </td><td>-2 </td><td>0  </td><td>0  </td><td>-1 </td><td>0  </td><td>-5 </td></tr>\n",
       "\t<tr><th scope=row>W</th><td>-3 </td><td>-3 </td><td>-4 </td><td>-5 </td><td>-5 </td><td>-1 </td><td>-3 </td><td>-3 </td><td>-3 </td><td>-3 </td><td>...</td><td>-4 </td><td>-4 </td><td>-3 </td><td>15 </td><td>2  </td><td>-3 </td><td>-5 </td><td>-2 </td><td>-3 </td><td>-5 </td></tr>\n",
       "\t<tr><th scope=row>Y</th><td>-2 </td><td>-1 </td><td>-2 </td><td>-3 </td><td>-3 </td><td>-1 </td><td>-2 </td><td>-3 </td><td>2  </td><td>-1 </td><td>...</td><td>-3 </td><td>-2 </td><td>-2 </td><td>2  </td><td>8  </td><td>-1 </td><td>-3 </td><td>-2 </td><td>-1 </td><td>-5 </td></tr>\n",
       "\t<tr><th scope=row>V</th><td>0  </td><td>-3 </td><td>-3 </td><td>-4 </td><td>-1 </td><td>-3 </td><td>-3 </td><td>-4 </td><td>-4 </td><td>4  </td><td>...</td><td>-3 </td><td>-2 </td><td>0  </td><td>-3 </td><td>-1 </td><td>5  </td><td>-4 </td><td>-3 </td><td>-1 </td><td>-5 </td></tr>\n",
       "\t<tr><th scope=row>B</th><td>-2 </td><td>-1 </td><td>4  </td><td>5  </td><td>-3 </td><td>0  </td><td>1  </td><td>-1 </td><td>0  </td><td>-4 </td><td>...</td><td>-2 </td><td>0  </td><td>0  </td><td>-5 </td><td>-3 </td><td>-4 </td><td>5  </td><td>2  </td><td>-1 </td><td>-5 </td></tr>\n",
       "\t<tr><th scope=row>Z</th><td>-1 </td><td>0  </td><td>0  </td><td>1  </td><td>-3 </td><td>4  </td><td>5  </td><td>-2 </td><td>0  </td><td>-3 </td><td>...</td><td>-1 </td><td>0  </td><td>-1 </td><td>-2 </td><td>-2 </td><td>-3 </td><td>2  </td><td>5  </td><td>-1 </td><td>-5 </td></tr>\n",
       "\t<tr><th scope=row>X</th><td>-1 </td><td>-1 </td><td>-1 </td><td>-1 </td><td>-2 </td><td>-1 </td><td>-1 </td><td>-2 </td><td>-1 </td><td>-1 </td><td>...</td><td>-2 </td><td>-1 </td><td>0  </td><td>-3 </td><td>-1 </td><td>-1 </td><td>-1 </td><td>-1 </td><td>-1 </td><td>-5 </td></tr>\n",
       "\t<tr><th scope=row>*</th><td>-5 </td><td>-5 </td><td>-5 </td><td>-5 </td><td>-5 </td><td>-5 </td><td>-5 </td><td>-5 </td><td>-5 </td><td>-5 </td><td>...</td><td>-5 </td><td>-5 </td><td>-5 </td><td>-5 </td><td>-5 </td><td>-5 </td><td>-5 </td><td>-5 </td><td>-5 </td><td>1  </td></tr>\n",
       "</tbody>\n",
       "</table>\n"
      ],
      "text/latex": [
       "\\begin{tabular}{r|llllllllllllllllllllllll}\n",
       "  & A & R & N & D & C & Q & E & G & H & I & ... & P & S & T & W & Y & V & B & Z & X & *\\\\\n",
       "\\hline\n",
       "\tA & 5   & -2  & -1  & -2  & -1  & -1  & -1  & 0   & -2  & -1  & ... & -1  & 1   & 0   & -3  & -2  & 0   & -2  & -1  & -1  & -5 \\\\\n",
       "\tR & -2  & 7   & -1  & -2  & -4  & 1   & 0   & -3  & 0   & -4  & ... & -3  & -1  & -1  & -3  & -1  & -3  & -1  & 0   & -1  & -5 \\\\\n",
       "\tN & -1  & -1  & 7   & 2   & -2  & 0   & 0   & 0   & 1   & -3  & ... & -2  & 1   & 0   & -4  & -2  & -3  & 4   & 0   & -1  & -5 \\\\\n",
       "\tD & -2  & -2  & 2   & 8   & -4  & 0   & 2   & -1  & -1  & -4  & ... & -1  & 0   & -1  & -5  & -3  & -4  & 5   & 1   & -1  & -5 \\\\\n",
       "\tC & -1  & -4  & -2  & -4  & 13  & -3  & -3  & -3  & -3  & -2  & ... & -4  & -1  & -1  & -5  & -3  & -1  & -3  & -3  & -2  & -5 \\\\\n",
       "\tQ & -1  & 1   & 0   & 0   & -3  & 7   & 2   & -2  & 1   & -3  & ... & -1  & 0   & -1  & -1  & -1  & -3  & 0   & 4   & -1  & -5 \\\\\n",
       "\tE & -1  & 0   & 0   & 2   & -3  & 2   & 6   & -3  & 0   & -4  & ... & -1  & -1  & -1  & -3  & -2  & -3  & 1   & 5   & -1  & -5 \\\\\n",
       "\tG & 0   & -3  & 0   & -1  & -3  & -2  & -3  & 8   & -2  & -4  & ... & -2  & 0   & -2  & -3  & -3  & -4  & -1  & -2  & -2  & -5 \\\\\n",
       "\tH & -2  & 0   & 1   & -1  & -3  & 1   & 0   & -2  & 10  & -4  & ... & -2  & -1  & -2  & -3  & 2   & -4  & 0   & 0   & -1  & -5 \\\\\n",
       "\tI & -1  & -4  & -3  & -4  & -2  & -3  & -4  & -4  & -4  & 5   & ... & -3  & -3  & -1  & -3  & -1  & 4   & -4  & -3  & -1  & -5 \\\\\n",
       "\tL & -2  & -3  & -4  & -4  & -2  & -2  & -3  & -4  & -3  & 2   & ... & -4  & -3  & -1  & -2  & -1  & 1   & -4  & -3  & -1  & -5 \\\\\n",
       "\tK & -1  & 3   & 0   & -1  & -3  & 2   & 1   & -2  & 0   & -3  & ... & -1  & 0   & -1  & -3  & -2  & -3  & 0   & 1   & -1  & -5 \\\\\n",
       "\tM & -1  & -2  & -2  & -4  & -2  & 0   & -2  & -3  & -1  & 2   & ... & -3  & -2  & -1  & -1  & 0   & 1   & -3  & -1  & -1  & -5 \\\\\n",
       "\tF & -3  & -3  & -4  & -5  & -2  & -4  & -3  & -4  & -1  & 0   & ... & -4  & -3  & -2  & 1   & 4   & -1  & -4  & -4  & -2  & -5 \\\\\n",
       "\tP & -1  & -3  & -2  & -1  & -4  & -1  & -1  & -2  & -2  & -3  & ... & 10  & -1  & -1  & -4  & -3  & -3  & -2  & -1  & -2  & -5 \\\\\n",
       "\tS & 1   & -1  & 1   & 0   & -1  & 0   & -1  & 0   & -1  & -3  & ... & -1  & 5   & 2   & -4  & -2  & -2  & 0   & 0   & -1  & -5 \\\\\n",
       "\tT & 0   & -1  & 0   & -1  & -1  & -1  & -1  & -2  & -2  & -1  & ... & -1  & 2   & 5   & -3  & -2  & 0   & 0   & -1  & 0   & -5 \\\\\n",
       "\tW & -3  & -3  & -4  & -5  & -5  & -1  & -3  & -3  & -3  & -3  & ... & -4  & -4  & -3  & 15  & 2   & -3  & -5  & -2  & -3  & -5 \\\\\n",
       "\tY & -2  & -1  & -2  & -3  & -3  & -1  & -2  & -3  & 2   & -1  & ... & -3  & -2  & -2  & 2   & 8   & -1  & -3  & -2  & -1  & -5 \\\\\n",
       "\tV & 0   & -3  & -3  & -4  & -1  & -3  & -3  & -4  & -4  & 4   & ... & -3  & -2  & 0   & -3  & -1  & 5   & -4  & -3  & -1  & -5 \\\\\n",
       "\tB & -2  & -1  & 4   & 5   & -3  & 0   & 1   & -1  & 0   & -4  & ... & -2  & 0   & 0   & -5  & -3  & -4  & 5   & 2   & -1  & -5 \\\\\n",
       "\tZ & -1  & 0   & 0   & 1   & -3  & 4   & 5   & -2  & 0   & -3  & ... & -1  & 0   & -1  & -2  & -2  & -3  & 2   & 5   & -1  & -5 \\\\\n",
       "\tX & -1  & -1  & -1  & -1  & -2  & -1  & -1  & -2  & -1  & -1  & ... & -2  & -1  & 0   & -3  & -1  & -1  & -1  & -1  & -1  & -5 \\\\\n",
       "\t* & -5  & -5  & -5  & -5  & -5  & -5  & -5  & -5  & -5  & -5  & ... & -5  & -5  & -5  & -5  & -5  & -5  & -5  & -5  & -5  & 1  \\\\\n",
       "\\end{tabular}\n"
      ],
      "text/markdown": [
       "1. 5\n",
       "2. -2\n",
       "3. -1\n",
       "4. -2\n",
       "5. -1\n",
       "6. -1\n",
       "7. -1\n",
       "8. 0\n",
       "9. -2\n",
       "10. -1\n",
       "11. -2\n",
       "12. -1\n",
       "13. -1\n",
       "14. -3\n",
       "15. -1\n",
       "16. 1\n",
       "17. 0\n",
       "18. -3\n",
       "19. -2\n",
       "20. 0\n",
       "21. -2\n",
       "22. -1\n",
       "23. -1\n",
       "24. -5\n",
       "25. -2\n",
       "26. 7\n",
       "27. -1\n",
       "28. -2\n",
       "29. -4\n",
       "30. 1\n",
       "31. 0\n",
       "32. -3\n",
       "33. 0\n",
       "34. -4\n",
       "35. -3\n",
       "36. 3\n",
       "37. -2\n",
       "38. -3\n",
       "39. -3\n",
       "40. -1\n",
       "41. -1\n",
       "42. -3\n",
       "43. -1\n",
       "44. -3\n",
       "45. -1\n",
       "46. 0\n",
       "47. -1\n",
       "48. -5\n",
       "49. -1\n",
       "50. -1\n",
       "51. 7\n",
       "52. 2\n",
       "53. -2\n",
       "54. 0\n",
       "55. 0\n",
       "56. 0\n",
       "57. 1\n",
       "58. -3\n",
       "59. -4\n",
       "60. 0\n",
       "61. -2\n",
       "62. -4\n",
       "63. -2\n",
       "64. 1\n",
       "65. 0\n",
       "66. -4\n",
       "67. -2\n",
       "68. -3\n",
       "69. 4\n",
       "70. 0\n",
       "71. -1\n",
       "72. -5\n",
       "73. -2\n",
       "74. -2\n",
       "75. 2\n",
       "76. 8\n",
       "77. -4\n",
       "78. 0\n",
       "79. 2\n",
       "80. -1\n",
       "81. -1\n",
       "82. -4\n",
       "83. -4\n",
       "84. -1\n",
       "85. -4\n",
       "86. -5\n",
       "87. -1\n",
       "88. 0\n",
       "89. -1\n",
       "90. -5\n",
       "91. -3\n",
       "92. -4\n",
       "93. 5\n",
       "94. 1\n",
       "95. -1\n",
       "96. -5\n",
       "97. -1\n",
       "98. -4\n",
       "99. -2\n",
       "100. -4\n",
       "101. 13\n",
       "102. -3\n",
       "103. -3\n",
       "104. -3\n",
       "105. -3\n",
       "106. -2\n",
       "107. -2\n",
       "108. -3\n",
       "109. -2\n",
       "110. -2\n",
       "111. -4\n",
       "112. -1\n",
       "113. -1\n",
       "114. -5\n",
       "115. -3\n",
       "116. -1\n",
       "117. -3\n",
       "118. -3\n",
       "119. -2\n",
       "120. -5\n",
       "121. -1\n",
       "122. 1\n",
       "123. 0\n",
       "124. 0\n",
       "125. -3\n",
       "126. 7\n",
       "127. 2\n",
       "128. -2\n",
       "129. 1\n",
       "130. -3\n",
       "131. -2\n",
       "132. 2\n",
       "133. 0\n",
       "134. -4\n",
       "135. -1\n",
       "136. 0\n",
       "137. -1\n",
       "138. -1\n",
       "139. -1\n",
       "140. -3\n",
       "141. 0\n",
       "142. 4\n",
       "143. -1\n",
       "144. -5\n",
       "145. -1\n",
       "146. 0\n",
       "147. 0\n",
       "148. 2\n",
       "149. -3\n",
       "150. 2\n",
       "151. 6\n",
       "152. -3\n",
       "153. 0\n",
       "154. -4\n",
       "155. -3\n",
       "156. 1\n",
       "157. -2\n",
       "158. -3\n",
       "159. -1\n",
       "160. -1\n",
       "161. -1\n",
       "162. -3\n",
       "163. -2\n",
       "164. -3\n",
       "165. 1\n",
       "166. 5\n",
       "167. -1\n",
       "168. -5\n",
       "169. 0\n",
       "170. -3\n",
       "171. 0\n",
       "172. -1\n",
       "173. -3\n",
       "174. -2\n",
       "175. -3\n",
       "176. 8\n",
       "177. -2\n",
       "178. -4\n",
       "179. -4\n",
       "180. -2\n",
       "181. -3\n",
       "182. -4\n",
       "183. -2\n",
       "184. 0\n",
       "185. -2\n",
       "186. -3\n",
       "187. -3\n",
       "188. -4\n",
       "189. -1\n",
       "190. -2\n",
       "191. -2\n",
       "192. -5\n",
       "193. -2\n",
       "194. 0\n",
       "195. 1\n",
       "196. -1\n",
       "197. -3\n",
       "198. 1\n",
       "199. 0\n",
       "200. -2\n",
       "201. 10\n",
       "202. -4\n",
       "203. -3\n",
       "204. 0\n",
       "205. -1\n",
       "206. -1\n",
       "207. -2\n",
       "208. -1\n",
       "209. -2\n",
       "210. -3\n",
       "211. 2\n",
       "212. -4\n",
       "213. 0\n",
       "214. 0\n",
       "215. -1\n",
       "216. -5\n",
       "217. -1\n",
       "218. -4\n",
       "219. -3\n",
       "220. -4\n",
       "221. -2\n",
       "222. -3\n",
       "223. -4\n",
       "224. -4\n",
       "225. -4\n",
       "226. 5\n",
       "227. 2\n",
       "228. -3\n",
       "229. 2\n",
       "230. 0\n",
       "231. -3\n",
       "232. -3\n",
       "233. -1\n",
       "234. -3\n",
       "235. -1\n",
       "236. 4\n",
       "237. -4\n",
       "238. -3\n",
       "239. -1\n",
       "240. -5\n",
       "241. -2\n",
       "242. -3\n",
       "243. -4\n",
       "244. -4\n",
       "245. -2\n",
       "246. -2\n",
       "247. -3\n",
       "248. -4\n",
       "249. -3\n",
       "250. 2\n",
       "251. 5\n",
       "252. -3\n",
       "253. 3\n",
       "254. 1\n",
       "255. -4\n",
       "256. -3\n",
       "257. -1\n",
       "258. -2\n",
       "259. -1\n",
       "260. 1\n",
       "261. -4\n",
       "262. -3\n",
       "263. -1\n",
       "264. -5\n",
       "265. -1\n",
       "266. 3\n",
       "267. 0\n",
       "268. -1\n",
       "269. -3\n",
       "270. 2\n",
       "271. 1\n",
       "272. -2\n",
       "273. 0\n",
       "274. -3\n",
       "275. -3\n",
       "276. 6\n",
       "277. -2\n",
       "278. -4\n",
       "279. -1\n",
       "280. 0\n",
       "281. -1\n",
       "282. -3\n",
       "283. -2\n",
       "284. -3\n",
       "285. 0\n",
       "286. 1\n",
       "287. -1\n",
       "288. -5\n",
       "289. -1\n",
       "290. -2\n",
       "291. -2\n",
       "292. -4\n",
       "293. -2\n",
       "294. 0\n",
       "295. -2\n",
       "296. -3\n",
       "297. -1\n",
       "298. 2\n",
       "299. 3\n",
       "300. -2\n",
       "301. 7\n",
       "302. 0\n",
       "303. -3\n",
       "304. -2\n",
       "305. -1\n",
       "306. -1\n",
       "307. 0\n",
       "308. 1\n",
       "309. -3\n",
       "310. -1\n",
       "311. -1\n",
       "312. -5\n",
       "313. -3\n",
       "314. -3\n",
       "315. -4\n",
       "316. -5\n",
       "317. -2\n",
       "318. -4\n",
       "319. -3\n",
       "320. -4\n",
       "321. -1\n",
       "322. 0\n",
       "323. 1\n",
       "324. -4\n",
       "325. 0\n",
       "326. 8\n",
       "327. -4\n",
       "328. -3\n",
       "329. -2\n",
       "330. 1\n",
       "331. 4\n",
       "332. -1\n",
       "333. -4\n",
       "334. -4\n",
       "335. -2\n",
       "336. -5\n",
       "337. -1\n",
       "338. -3\n",
       "339. -2\n",
       "340. -1\n",
       "341. -4\n",
       "342. -1\n",
       "343. -1\n",
       "344. -2\n",
       "345. -2\n",
       "346. -3\n",
       "347. -4\n",
       "348. -1\n",
       "349. -3\n",
       "350. -4\n",
       "351. 10\n",
       "352. -1\n",
       "353. -1\n",
       "354. -4\n",
       "355. -3\n",
       "356. -3\n",
       "357. -2\n",
       "358. -1\n",
       "359. -2\n",
       "360. -5\n",
       "361. 1\n",
       "362. -1\n",
       "363. 1\n",
       "364. 0\n",
       "365. -1\n",
       "366. 0\n",
       "367. -1\n",
       "368. 0\n",
       "369. -1\n",
       "370. -3\n",
       "371. -3\n",
       "372. 0\n",
       "373. -2\n",
       "374. -3\n",
       "375. -1\n",
       "376. 5\n",
       "377. 2\n",
       "378. -4\n",
       "379. -2\n",
       "380. -2\n",
       "381. 0\n",
       "382. 0\n",
       "383. -1\n",
       "384. -5\n",
       "385. 0\n",
       "386. -1\n",
       "387. 0\n",
       "388. -1\n",
       "389. -1\n",
       "390. -1\n",
       "391. -1\n",
       "392. -2\n",
       "393. -2\n",
       "394. -1\n",
       "395. -1\n",
       "396. -1\n",
       "397. -1\n",
       "398. -2\n",
       "399. -1\n",
       "400. 2\n",
       "401. 5\n",
       "402. -3\n",
       "403. -2\n",
       "404. 0\n",
       "405. 0\n",
       "406. -1\n",
       "407. 0\n",
       "408. -5\n",
       "409. -3\n",
       "410. -3\n",
       "411. -4\n",
       "412. -5\n",
       "413. -5\n",
       "414. -1\n",
       "415. -3\n",
       "416. -3\n",
       "417. -3\n",
       "418. -3\n",
       "419. -2\n",
       "420. -3\n",
       "421. -1\n",
       "422. 1\n",
       "423. -4\n",
       "424. -4\n",
       "425. -3\n",
       "426. 15\n",
       "427. 2\n",
       "428. -3\n",
       "429. -5\n",
       "430. -2\n",
       "431. -3\n",
       "432. -5\n",
       "433. -2\n",
       "434. -1\n",
       "435. -2\n",
       "436. -3\n",
       "437. -3\n",
       "438. -1\n",
       "439. -2\n",
       "440. -3\n",
       "441. 2\n",
       "442. -1\n",
       "443. -1\n",
       "444. -2\n",
       "445. 0\n",
       "446. 4\n",
       "447. -3\n",
       "448. -2\n",
       "449. -2\n",
       "450. 2\n",
       "451. 8\n",
       "452. -1\n",
       "453. -3\n",
       "454. -2\n",
       "455. -1\n",
       "456. -5\n",
       "457. 0\n",
       "458. -3\n",
       "459. -3\n",
       "460. -4\n",
       "461. -1\n",
       "462. -3\n",
       "463. -3\n",
       "464. -4\n",
       "465. -4\n",
       "466. 4\n",
       "467. 1\n",
       "468. -3\n",
       "469. 1\n",
       "470. -1\n",
       "471. -3\n",
       "472. -2\n",
       "473. 0\n",
       "474. -3\n",
       "475. -1\n",
       "476. 5\n",
       "477. -4\n",
       "478. -3\n",
       "479. -1\n",
       "480. -5\n",
       "481. -2\n",
       "482. -1\n",
       "483. 4\n",
       "484. 5\n",
       "485. -3\n",
       "486. 0\n",
       "487. 1\n",
       "488. -1\n",
       "489. 0\n",
       "490. -4\n",
       "491. -4\n",
       "492. 0\n",
       "493. -3\n",
       "494. -4\n",
       "495. -2\n",
       "496. 0\n",
       "497. 0\n",
       "498. -5\n",
       "499. -3\n",
       "500. -4\n",
       "501. 5\n",
       "502. 2\n",
       "503. -1\n",
       "504. -5\n",
       "505. -1\n",
       "506. 0\n",
       "507. 0\n",
       "508. 1\n",
       "509. -3\n",
       "510. 4\n",
       "511. 5\n",
       "512. -2\n",
       "513. 0\n",
       "514. -3\n",
       "515. -3\n",
       "516. 1\n",
       "517. -1\n",
       "518. -4\n",
       "519. -1\n",
       "520. 0\n",
       "521. -1\n",
       "522. -2\n",
       "523. -2\n",
       "524. -3\n",
       "525. 2\n",
       "526. 5\n",
       "527. -1\n",
       "528. -5\n",
       "529. -1\n",
       "530. -1\n",
       "531. -1\n",
       "532. -1\n",
       "533. -2\n",
       "534. -1\n",
       "535. -1\n",
       "536. -2\n",
       "537. -1\n",
       "538. -1\n",
       "539. -1\n",
       "540. -1\n",
       "541. -1\n",
       "542. -2\n",
       "543. -2\n",
       "544. -1\n",
       "545. 0\n",
       "546. -3\n",
       "547. -1\n",
       "548. -1\n",
       "549. -1\n",
       "550. -1\n",
       "551. -1\n",
       "552. -5\n",
       "553. -5\n",
       "554. -5\n",
       "555. -5\n",
       "556. -5\n",
       "557. -5\n",
       "558. -5\n",
       "559. -5\n",
       "560. -5\n",
       "561. -5\n",
       "562. -5\n",
       "563. -5\n",
       "564. -5\n",
       "565. -5\n",
       "566. -5\n",
       "567. -5\n",
       "568. -5\n",
       "569. -5\n",
       "570. -5\n",
       "571. -5\n",
       "572. -5\n",
       "573. -5\n",
       "574. -5\n",
       "575. -5\n",
       "576. 1\n",
       "\n",
       "\n"
      ],
      "text/plain": [
       "  A    R    N    D    C    Q    E    G    H    I    ...   P    S    T    W   \n",
       "A \"5\"  \"-2\" \"-1\" \"-2\" \"-1\" \"-1\" \"-1\" \"0\"  \"-2\" \"-1\" \"...\" \"-1\" \"1\"  \"0\"  \"-3\"\n",
       "R \"-2\" \"7\"  \"-1\" \"-2\" \"-4\" \"1\"  \"0\"  \"-3\" \"0\"  \"-4\" \"...\" \"-3\" \"-1\" \"-1\" \"-3\"\n",
       "N \"-1\" \"-1\" \"7\"  \"2\"  \"-2\" \"0\"  \"0\"  \"0\"  \"1\"  \"-3\" \"...\" \"-2\" \"1\"  \"0\"  \"-4\"\n",
       "D \"-2\" \"-2\" \"2\"  \"8\"  \"-4\" \"0\"  \"2\"  \"-1\" \"-1\" \"-4\" \"...\" \"-1\" \"0\"  \"-1\" \"-5\"\n",
       "C \"-1\" \"-4\" \"-2\" \"-4\" \"13\" \"-3\" \"-3\" \"-3\" \"-3\" \"-2\" \"...\" \"-4\" \"-1\" \"-1\" \"-5\"\n",
       "Q \"-1\" \"1\"  \"0\"  \"0\"  \"-3\" \"7\"  \"2\"  \"-2\" \"1\"  \"-3\" \"...\" \"-1\" \"0\"  \"-1\" \"-1\"\n",
       "E \"-1\" \"0\"  \"0\"  \"2\"  \"-3\" \"2\"  \"6\"  \"-3\" \"0\"  \"-4\" \"...\" \"-1\" \"-1\" \"-1\" \"-3\"\n",
       "G \"0\"  \"-3\" \"0\"  \"-1\" \"-3\" \"-2\" \"-3\" \"8\"  \"-2\" \"-4\" \"...\" \"-2\" \"0\"  \"-2\" \"-3\"\n",
       "H \"-2\" \"0\"  \"1\"  \"-1\" \"-3\" \"1\"  \"0\"  \"-2\" \"10\" \"-4\" \"...\" \"-2\" \"-1\" \"-2\" \"-3\"\n",
       "I \"-1\" \"-4\" \"-3\" \"-4\" \"-2\" \"-3\" \"-4\" \"-4\" \"-4\" \"5\"  \"...\" \"-3\" \"-3\" \"-1\" \"-3\"\n",
       "L \"-2\" \"-3\" \"-4\" \"-4\" \"-2\" \"-2\" \"-3\" \"-4\" \"-3\" \"2\"  \"...\" \"-4\" \"-3\" \"-1\" \"-2\"\n",
       "K \"-1\" \"3\"  \"0\"  \"-1\" \"-3\" \"2\"  \"1\"  \"-2\" \"0\"  \"-3\" \"...\" \"-1\" \"0\"  \"-1\" \"-3\"\n",
       "M \"-1\" \"-2\" \"-2\" \"-4\" \"-2\" \"0\"  \"-2\" \"-3\" \"-1\" \"2\"  \"...\" \"-3\" \"-2\" \"-1\" \"-1\"\n",
       "F \"-3\" \"-3\" \"-4\" \"-5\" \"-2\" \"-4\" \"-3\" \"-4\" \"-1\" \"0\"  \"...\" \"-4\" \"-3\" \"-2\" \"1\" \n",
       "P \"-1\" \"-3\" \"-2\" \"-1\" \"-4\" \"-1\" \"-1\" \"-2\" \"-2\" \"-3\" \"...\" \"10\" \"-1\" \"-1\" \"-4\"\n",
       "S \"1\"  \"-1\" \"1\"  \"0\"  \"-1\" \"0\"  \"-1\" \"0\"  \"-1\" \"-3\" \"...\" \"-1\" \"5\"  \"2\"  \"-4\"\n",
       "T \"0\"  \"-1\" \"0\"  \"-1\" \"-1\" \"-1\" \"-1\" \"-2\" \"-2\" \"-1\" \"...\" \"-1\" \"2\"  \"5\"  \"-3\"\n",
       "W \"-3\" \"-3\" \"-4\" \"-5\" \"-5\" \"-1\" \"-3\" \"-3\" \"-3\" \"-3\" \"...\" \"-4\" \"-4\" \"-3\" \"15\"\n",
       "Y \"-2\" \"-1\" \"-2\" \"-3\" \"-3\" \"-1\" \"-2\" \"-3\" \"2\"  \"-1\" \"...\" \"-3\" \"-2\" \"-2\" \"2\" \n",
       "V \"0\"  \"-3\" \"-3\" \"-4\" \"-1\" \"-3\" \"-3\" \"-4\" \"-4\" \"4\"  \"...\" \"-3\" \"-2\" \"0\"  \"-3\"\n",
       "B \"-2\" \"-1\" \"4\"  \"5\"  \"-3\" \"0\"  \"1\"  \"-1\" \"0\"  \"-4\" \"...\" \"-2\" \"0\"  \"0\"  \"-5\"\n",
       "Z \"-1\" \"0\"  \"0\"  \"1\"  \"-3\" \"4\"  \"5\"  \"-2\" \"0\"  \"-3\" \"...\" \"-1\" \"0\"  \"-1\" \"-2\"\n",
       "X \"-1\" \"-1\" \"-1\" \"-1\" \"-2\" \"-1\" \"-1\" \"-2\" \"-1\" \"-1\" \"...\" \"-2\" \"-1\" \"0\"  \"-3\"\n",
       "* \"-5\" \"-5\" \"-5\" \"-5\" \"-5\" \"-5\" \"-5\" \"-5\" \"-5\" \"-5\" \"...\" \"-5\" \"-5\" \"-5\" \"-5\"\n",
       "  Y    V    B    Z    X    *   \n",
       "A \"-2\" \"0\"  \"-2\" \"-1\" \"-1\" \"-5\"\n",
       "R \"-1\" \"-3\" \"-1\" \"0\"  \"-1\" \"-5\"\n",
       "N \"-2\" \"-3\" \"4\"  \"0\"  \"-1\" \"-5\"\n",
       "D \"-3\" \"-4\" \"5\"  \"1\"  \"-1\" \"-5\"\n",
       "C \"-3\" \"-1\" \"-3\" \"-3\" \"-2\" \"-5\"\n",
       "Q \"-1\" \"-3\" \"0\"  \"4\"  \"-1\" \"-5\"\n",
       "E \"-2\" \"-3\" \"1\"  \"5\"  \"-1\" \"-5\"\n",
       "G \"-3\" \"-4\" \"-1\" \"-2\" \"-2\" \"-5\"\n",
       "H \"2\"  \"-4\" \"0\"  \"0\"  \"-1\" \"-5\"\n",
       "I \"-1\" \"4\"  \"-4\" \"-3\" \"-1\" \"-5\"\n",
       "L \"-1\" \"1\"  \"-4\" \"-3\" \"-1\" \"-5\"\n",
       "K \"-2\" \"-3\" \"0\"  \"1\"  \"-1\" \"-5\"\n",
       "M \"0\"  \"1\"  \"-3\" \"-1\" \"-1\" \"-5\"\n",
       "F \"4\"  \"-1\" \"-4\" \"-4\" \"-2\" \"-5\"\n",
       "P \"-3\" \"-3\" \"-2\" \"-1\" \"-2\" \"-5\"\n",
       "S \"-2\" \"-2\" \"0\"  \"0\"  \"-1\" \"-5\"\n",
       "T \"-2\" \"0\"  \"0\"  \"-1\" \"0\"  \"-5\"\n",
       "W \"2\"  \"-3\" \"-5\" \"-2\" \"-3\" \"-5\"\n",
       "Y \"8\"  \"-1\" \"-3\" \"-2\" \"-1\" \"-5\"\n",
       "V \"-1\" \"5\"  \"-4\" \"-3\" \"-1\" \"-5\"\n",
       "B \"-3\" \"-4\" \"5\"  \"2\"  \"-1\" \"-5\"\n",
       "Z \"-2\" \"-3\" \"2\"  \"5\"  \"-1\" \"-5\"\n",
       "X \"-1\" \"-1\" \"-1\" \"-1\" \"-1\" \"-5\"\n",
       "* \"-5\" \"-5\" \"-5\" \"-5\" \"-5\" \"1\" "
      ]
     },
     "metadata": {},
     "output_type": "display_data"
    }
   ],
   "source": [
    "data(BLOSUM50)\n",
    "BLOSUM50 # Print out the data"
   ]
  },
  {
   "cell_type": "code",
   "execution_count": 35,
   "metadata": {
    "collapsed": false
   },
   "outputs": [
    {
     "data": {
      "text/html": [
       "<h3>Data sets</h3>\n",
       "<table>\n",
       "<thead><tr><th></th><th scope=col>Package</th><th scope=col>Item</th><th scope=col>Title</th></tr></thead>\n",
       "<tbody>\n",
       "\t<tr><th scope=row>1</th><td>Biostrings      </td><td>BLOSUM100       </td><td>Scoring matrices</td></tr>\n",
       "\t<tr><th scope=row>2</th><td>Biostrings      </td><td>BLOSUM45        </td><td>Scoring matrices</td></tr>\n",
       "\t<tr><th scope=row>3</th><td>Biostrings      </td><td>BLOSUM50        </td><td>Scoring matrices</td></tr>\n",
       "\t<tr><th scope=row>4</th><td>Biostrings      </td><td>BLOSUM62        </td><td>Scoring matrices</td></tr>\n",
       "\t<tr><th scope=row>5</th><td>Biostrings      </td><td>BLOSUM80        </td><td>Scoring matrices</td></tr>\n",
       "\t<tr><th scope=row>6</th><td>Biostrings                       </td><td>HNF4alpha                        </td><td>Known HNF4alpha binding sequences</td></tr>\n",
       "\t<tr><th scope=row>7</th><td>Biostrings      </td><td>PAM120          </td><td>Scoring matrices</td></tr>\n",
       "\t<tr><th scope=row>8</th><td>Biostrings      </td><td>PAM250          </td><td>Scoring matrices</td></tr>\n",
       "\t<tr><th scope=row>9</th><td>Biostrings      </td><td>PAM30           </td><td>Scoring matrices</td></tr>\n",
       "\t<tr><th scope=row>10</th><td>Biostrings      </td><td>PAM40           </td><td>Scoring matrices</td></tr>\n",
       "\t<tr><th scope=row>11</th><td>Biostrings      </td><td>PAM70           </td><td>Scoring matrices</td></tr>\n",
       "\t<tr><th scope=row>12</th><td>Biostrings                                                              </td><td>phiX174Phage                                                            </td><td>Versions of bacteriophage phiX174 complete genome and sample short reads</td></tr>\n",
       "\t<tr><th scope=row>13</th><td>Biostrings                                                              </td><td>quPhiX174 (srPhiX174)                                                   </td><td>Versions of bacteriophage phiX174 complete genome and sample short reads</td></tr>\n",
       "\t<tr><th scope=row>14</th><td>Biostrings                                                              </td><td>srPhiX174                                                               </td><td>Versions of bacteriophage phiX174 complete genome and sample short reads</td></tr>\n",
       "\t<tr><th scope=row>15</th><td>Biostrings                                                              </td><td>wtPhiX174 (srPhiX174)                                                   </td><td>Versions of bacteriophage phiX174 complete genome and sample short reads</td></tr>\n",
       "\t<tr><th scope=row>16</th><td>Biostrings                                              </td><td>yeastSEQCHR1                                            </td><td>An annotation data file for CHR1 in the yeastSEQ package</td></tr>\n",
       "</tbody>\n",
       "</table>\n",
       "\n"
      ],
      "text/plain": [
       "Data sets in package 'Biostrings':\n",
       "\n",
       "BLOSUM100               Scoring matrices\n",
       "BLOSUM45                Scoring matrices\n",
       "BLOSUM50                Scoring matrices\n",
       "BLOSUM62                Scoring matrices\n",
       "BLOSUM80                Scoring matrices\n",
       "HNF4alpha               Known HNF4alpha binding sequences\n",
       "PAM120                  Scoring matrices\n",
       "PAM250                  Scoring matrices\n",
       "PAM30                   Scoring matrices\n",
       "PAM40                   Scoring matrices\n",
       "PAM70                   Scoring matrices\n",
       "phiX174Phage            Versions of bacteriophage phiX174 complete\n",
       "                        genome and sample short reads\n",
       "quPhiX174 (srPhiX174)   Versions of bacteriophage phiX174 complete\n",
       "                        genome and sample short reads\n",
       "srPhiX174               Versions of bacteriophage phiX174 complete\n",
       "                        genome and sample short reads\n",
       "wtPhiX174 (srPhiX174)   Versions of bacteriophage phiX174 complete\n",
       "                        genome and sample short reads\n",
       "yeastSEQCHR1            An annotation data file for CHR1 in the\n",
       "                        yeastSEQ package"
      ]
     },
     "metadata": {},
     "output_type": "display_data"
    }
   ],
   "source": [
    "data(package=\"Biostrings\")"
   ]
  },
  {
   "cell_type": "markdown",
   "metadata": {},
   "source": [
    "### Needleman-Wunsch algorithm 를 이용한 global alignment"
   ]
  },
  {
   "cell_type": "code",
   "execution_count": 37,
   "metadata": {
    "collapsed": false
   },
   "outputs": [
    {
     "data": {
      "text/plain": [
       "Global PairwiseAlignmentsSingleSubject (1 of 1)\n",
       "pattern: [1] P---AWHEAE \n",
       "subject: [1] HEAGAWGHEE \n",
       "score: -5 "
      ]
     },
     "metadata": {},
     "output_type": "display_data"
    }
   ],
   "source": [
    "data(BLOSUM50)\n",
    "s3 <- \"PAWHEAE\"\n",
    "s4 <- \"HEAGAWGHEE\"\n",
    "globalAligns3s4 <- pairwiseAlignment(s3, s4, substitutionMatrix = \"BLOSUM50\", gapOpening = -2, gapExtension = -8, scoreOnly = FALSE)\n",
    "globalAligns3s4 # Print out the optimal global alignment and its score"
   ]
  },
  {
   "cell_type": "markdown",
   "metadata": {},
   "source": [
    "### 앞의 예 leprae 와 ulcerans 를 이용한 pairwise sequence alignment"
   ]
  },
  {
   "cell_type": "code",
   "execution_count": 38,
   "metadata": {
    "collapsed": false
   },
   "outputs": [
    {
     "data": {
      "text/plain": [
       "$`sp|Q9CD83|PHBS_MYCLE`\n",
       "  [1] \"m\" \"t\" \"n\" \"r\" \"t\" \"l\" \"s\" \"r\" \"e\" \"e\" \"i\" \"r\" \"k\" \"l\" \"d\" \"r\" \"d\" \"l\"\n",
       " [19] \"r\" \"i\" \"l\" \"v\" \"a\" \"t\" \"n\" \"g\" \"t\" \"l\" \"t\" \"r\" \"v\" \"l\" \"n\" \"v\" \"v\" \"a\"\n",
       " [37] \"n\" \"e\" \"e\" \"i\" \"v\" \"v\" \"d\" \"i\" \"i\" \"n\" \"q\" \"q\" \"l\" \"l\" \"d\" \"v\" \"a\" \"p\"\n",
       " [55] \"k\" \"i\" \"p\" \"e\" \"l\" \"e\" \"n\" \"l\" \"k\" \"i\" \"g\" \"r\" \"i\" \"l\" \"q\" \"r\" \"d\" \"i\"\n",
       " [73] \"l\" \"l\" \"k\" \"g\" \"q\" \"k\" \"s\" \"g\" \"i\" \"l\" \"f\" \"v\" \"a\" \"a\" \"e\" \"s\" \"l\" \"i\"\n",
       " [91] \"v\" \"i\" \"d\" \"l\" \"l\" \"p\" \"t\" \"a\" \"i\" \"t\" \"t\" \"y\" \"l\" \"t\" \"k\" \"t\" \"h\" \"h\"\n",
       "[109] \"p\" \"i\" \"g\" \"e\" \"i\" \"m\" \"a\" \"a\" \"s\" \"r\" \"i\" \"e\" \"t\" \"y\" \"k\" \"e\" \"d\" \"a\"\n",
       "[127] \"q\" \"v\" \"w\" \"i\" \"g\" \"d\" \"l\" \"p\" \"c\" \"w\" \"l\" \"a\" \"d\" \"y\" \"g\" \"y\" \"w\" \"d\"\n",
       "[145] \"l\" \"p\" \"k\" \"r\" \"a\" \"v\" \"g\" \"r\" \"r\" \"y\" \"r\" \"i\" \"i\" \"a\" \"g\" \"g\" \"q\" \"p\"\n",
       "[163] \"v\" \"i\" \"i\" \"t\" \"t\" \"e\" \"y\" \"f\" \"l\" \"r\" \"s\" \"v\" \"f\" \"q\" \"d\" \"t\" \"p\" \"r\"\n",
       "[181] \"e\" \"e\" \"l\" \"d\" \"r\" \"c\" \"q\" \"y\" \"s\" \"n\" \"d\" \"i\" \"d\" \"t\" \"r\" \"s\" \"g\" \"d\"\n",
       "[199] \"r\" \"f\" \"v\" \"l\" \"h\" \"g\" \"r\" \"v\" \"f\" \"k\" \"n\" \"l\"\n",
       "attr(,\"name\")\n",
       "[1] \"sp|Q9CD83|PHBS_MYCLE\"\n",
       "attr(,\"Annot\")\n",
       "[1] \">sp|Q9CD83|PHBS_MYCLE Chorismate pyruvate-lyase OS=Mycobacterium leprae (strain TN) GN=ML0133 PE=3 SV=1\"\n",
       "attr(,\"class\")\n",
       "[1] \"SeqFastadna\"\n"
      ]
     },
     "metadata": {},
     "output_type": "display_data"
    }
   ],
   "source": [
    "leprae"
   ]
  },
  {
   "cell_type": "code",
   "execution_count": 40,
   "metadata": {
    "collapsed": false
   },
   "outputs": [
    {
     "data": {
      "text/plain": [
       "$`tr|A0PQ23|A0PQ23_MYCUA`\n",
       "  [1] \"m\" \"l\" \"a\" \"v\" \"l\" \"p\" \"e\" \"k\" \"r\" \"e\" \"m\" \"t\" \"e\" \"c\" \"h\" \"l\" \"s\" \"d\"\n",
       " [19] \"e\" \"e\" \"i\" \"r\" \"k\" \"l\" \"n\" \"r\" \"d\" \"l\" \"r\" \"i\" \"l\" \"i\" \"a\" \"t\" \"n\" \"g\"\n",
       " [37] \"t\" \"l\" \"t\" \"r\" \"i\" \"l\" \"n\" \"v\" \"l\" \"a\" \"n\" \"d\" \"e\" \"i\" \"v\" \"v\" \"e\" \"i\"\n",
       " [55] \"v\" \"k\" \"q\" \"q\" \"i\" \"q\" \"d\" \"a\" \"a\" \"p\" \"e\" \"m\" \"d\" \"g\" \"c\" \"d\" \"h\" \"s\"\n",
       " [73] \"s\" \"i\" \"g\" \"r\" \"v\" \"l\" \"r\" \"r\" \"d\" \"i\" \"v\" \"l\" \"k\" \"g\" \"r\" \"r\" \"s\" \"g\"\n",
       " [91] \"i\" \"p\" \"f\" \"v\" \"a\" \"a\" \"e\" \"s\" \"f\" \"i\" \"a\" \"i\" \"d\" \"l\" \"l\" \"p\" \"p\" \"e\"\n",
       "[109] \"i\" \"v\" \"a\" \"s\" \"l\" \"l\" \"e\" \"t\" \"h\" \"r\" \"p\" \"i\" \"g\" \"e\" \"v\" \"m\" \"a\" \"a\"\n",
       "[127] \"s\" \"c\" \"i\" \"e\" \"t\" \"f\" \"k\" \"e\" \"e\" \"a\" \"k\" \"v\" \"w\" \"a\" \"g\" \"e\" \"s\" \"p\"\n",
       "[145] \"a\" \"w\" \"l\" \"e\" \"l\" \"d\" \"r\" \"r\" \"r\" \"n\" \"l\" \"p\" \"p\" \"k\" \"v\" \"v\" \"g\" \"r\"\n",
       "[163] \"q\" \"y\" \"r\" \"v\" \"i\" \"a\" \"e\" \"g\" \"r\" \"p\" \"v\" \"i\" \"i\" \"i\" \"t\" \"e\" \"y\" \"f\"\n",
       "[181] \"l\" \"r\" \"s\" \"v\" \"f\" \"e\" \"d\" \"n\" \"s\" \"r\" \"e\" \"e\" \"p\" \"i\" \"r\" \"h\" \"q\" \"r\"\n",
       "[199] \"s\" \"v\" \"g\" \"t\" \"s\" \"a\" \"r\" \"s\" \"g\" \"r\" \"s\" \"i\" \"c\" \"t\"\n",
       "attr(,\"name\")\n",
       "[1] \"tr|A0PQ23|A0PQ23_MYCUA\"\n",
       "attr(,\"Annot\")\n",
       "[1] \">tr|A0PQ23|A0PQ23_MYCUA Chorismate pyruvate-lyase OS=Mycobacterium ulcerans (strain Agy99) GN=MUL_2003 PE=4 SV=1\"\n",
       "attr(,\"class\")\n",
       "[1] \"SeqFastadna\"\n"
      ]
     },
     "metadata": {},
     "output_type": "display_data"
    }
   ],
   "source": [
    "ulcerans"
   ]
  },
  {
   "cell_type": "code",
   "execution_count": 41,
   "metadata": {
    "collapsed": false
   },
   "outputs": [
    {
     "data": {
      "text/html": [
       "\"MTNRTLSREEIRKLDRDLRILVATNGTLTRVLNVVANEEIVVDIINQQLLDVAPKIPELENLKIGRILQRDILLKGQKSGILFVAAESLIVIDLLPTAITTYLTKTHHPIGEIMAASRIETYKEDAQVWIGDLPCWLADYGYWDLPKRAVGRRYRIIAGGQPVIITTEYFLRSVFQDTPREELDRCQYSNDIDTRSGDRFVLHGRVFKNL\""
      ],
      "text/latex": [
       "\"MTNRTLSREEIRKLDRDLRILVATNGTLTRVLNVVANEEIVVDIINQQLLDVAPKIPELENLKIGRILQRDILLKGQKSGILFVAAESLIVIDLLPTAITTYLTKTHHPIGEIMAASRIETYKEDAQVWIGDLPCWLADYGYWDLPKRAVGRRYRIIAGGQPVIITTEYFLRSVFQDTPREELDRCQYSNDIDTRSGDRFVLHGRVFKNL\""
      ],
      "text/markdown": [
       "\"MTNRTLSREEIRKLDRDLRILVATNGTLTRVLNVVANEEIVVDIINQQLLDVAPKIPELENLKIGRILQRDILLKGQKSGILFVAAESLIVIDLLPTAITTYLTKTHHPIGEIMAASRIETYKEDAQVWIGDLPCWLADYGYWDLPKRAVGRRYRIIAGGQPVIITTEYFLRSVFQDTPREELDRCQYSNDIDTRSGDRFVLHGRVFKNL\""
      ],
      "text/plain": [
       "[1] \"MTNRTLSREEIRKLDRDLRILVATNGTLTRVLNVVANEEIVVDIINQQLLDVAPKIPELENLKIGRILQRDILLKGQKSGILFVAAESLIVIDLLPTAITTYLTKTHHPIGEIMAASRIETYKEDAQVWIGDLPCWLADYGYWDLPKRAVGRRYRIIAGGQPVIITTEYFLRSVFQDTPREELDRCQYSNDIDTRSGDRFVLHGRVFKNL\""
      ]
     },
     "metadata": {},
     "output_type": "display_data"
    },
    {
     "data": {
      "text/plain": [
       "Global PairwiseAlignmentsSingleSubject (1 of 1)\n",
       "pattern: [1] MT-----NR--T---LSREEIRKLDRDLRILVATN...QDTPREELDRCQYSNDIDTRSGDRFVLHGRVFKN \n",
       "subject: [1] MLAVLPEKREMTECHLSDEEIRKLNRDLRILIATN...EDNSREEPIRHQRS--VGT-SA-R---SGRSICT \n",
       "score: 627 "
      ]
     },
     "metadata": {},
     "output_type": "display_data"
    }
   ],
   "source": [
    "lepraeseqstring <- c2s(lepraeseq)     # Make a string that contains the sequence in \"lepraeseq\"\n",
    "ulceransseqstring <- c2s(ulceransseq)\n",
    "lepraeseqstring <- toupper(lepraeseqstring)\n",
    "ulceransseqstring <- toupper(ulceransseqstring)\n",
    "lepraeseqstring\n",
    "globalAlignLepraeUlcerans <- pairwiseAlignment(lepraeseqstring, ulceransseqstring,substitutionMatrix = BLOSUM50, gapOpening = -2, gapExtension = -8, scoreOnly = FALSE)\n",
    "globalAlignLepraeUlcerans # Print out the optimal global alignment and its score"
   ]
  },
  {
   "cell_type": "markdown",
   "metadata": {},
   "source": [
    "### 긴 서열 정렬 결과를 보자"
   ]
  },
  {
   "cell_type": "code",
   "execution_count": 42,
   "metadata": {
    "collapsed": true
   },
   "outputs": [],
   "source": [
    "printPairwiseAlignment <- function(alignment, chunksize=60, returnlist=FALSE)\n",
    "  {\n",
    "     require(Biostrings)           # This function requires the Biostrings package\n",
    "     seq1aln <- pattern(alignment) # Get the alignment for the first sequence\n",
    "     seq2aln <- subject(alignment) # Get the alignment for the second sequence\n",
    "     alnlen  <- nchar(seq1aln)     # Find the number of columns in the alignment\n",
    "     starts  <- seq(1, alnlen, by=chunksize)\n",
    "     n       <- length(starts)\n",
    "     seq1alnresidues <- 0\n",
    "     seq2alnresidues <- 0\n",
    "     for (i in 1:n) {\n",
    "        chunkseq1aln <- substring(seq1aln, starts[i], starts[i]+chunksize-1)\n",
    "        chunkseq2aln <- substring(seq2aln, starts[i], starts[i]+chunksize-1)\n",
    "        # Find out how many gaps there are in chunkseq1aln:\n",
    "        gaps1 <- countPattern(\"-\",chunkseq1aln) # countPattern() is from Biostrings package\n",
    "        # Find out how many gaps there are in chunkseq2aln:\n",
    "        gaps2 <- countPattern(\"-\",chunkseq2aln) # countPattern() is from Biostrings package\n",
    "        # Calculate how many residues of the first sequence we have printed so far in the alignment:\n",
    "        seq1alnresidues <- seq1alnresidues + chunksize - gaps1\n",
    "        # Calculate how many residues of the second sequence we have printed so far in the alignment:\n",
    "        seq2alnresidues <- seq2alnresidues + chunksize - gaps2\n",
    "        if (returnlist == 'FALSE')\n",
    "        {\n",
    "           print(paste(chunkseq1aln,seq1alnresidues))\n",
    "           print(paste(chunkseq2aln,seq2alnresidues))\n",
    "           print(paste(' '))\n",
    "        }\n",
    "     }\n",
    "     if (returnlist == 'TRUE')\n",
    "     {\n",
    "        vector1 <- s2c(substring(seq1aln, 1, nchar(seq1aln)))\n",
    "        vector2 <- s2c(substring(seq2aln, 1, nchar(seq2aln)))\n",
    "        mylist <- list(vector1, vector2)\n",
    "        return(mylist)\n",
    "     }\n",
    "}"
   ]
  },
  {
   "cell_type": "code",
   "execution_count": 43,
   "metadata": {
    "collapsed": false
   },
   "outputs": [
    {
     "name": "stdout",
     "output_type": "stream",
     "text": [
      "[1] \"MT-----NR--T---LSREEIRKLDRDLRILVATNGTLTRVLNVVANEEIVVDIINQQLL 50\"\n",
      "[1] \"MLAVLPEKREMTECHLSDEEIRKLNRDLRILIATNGTLTRILNVLANDEIVVEIVKQQIQ 60\"\n",
      "[1] \" \"\n",
      "[1] \"DVAPKIPELENLKIGRILQRDILLKGQKSGILFVAAESLIVIDLLPTAITTYLTKTHHPI 110\"\n",
      "[1] \"DAAPEMDGCDHSSIGRVLRRDIVLKGRRSGIPFVAAESFIAIDLLPPEIVASLLETHRPI 120\"\n",
      "[1] \" \"\n",
      "[1] \"GEIMAASRIETYKEDAQVWIGDLPCWLADYGYWDLPKRAVGRRYRIIAGGQPVIITTEYF 170\"\n",
      "[1] \"GEVMAASCIETFKEEAKVWAGESPAWLELDRRRNLPPKVVGRQYRVIAEGRPVIIITEYF 180\"\n",
      "[1] \" \"\n",
      "[1] \"LRSVFQDTPREELDRCQYSNDIDTRSGDRFVLHGRVFKN 230\"\n",
      "[1] \"LRSVFEDNSREEPIRHQRS--VGT-SA-R---SGRSICT 233\"\n",
      "[1] \" \"\n"
     ]
    }
   ],
   "source": [
    "printPairwiseAlignment(globalAlignLepraeUlcerans,60)"
   ]
  },
  {
   "cell_type": "markdown",
   "metadata": {},
   "source": [
    "### Smith-Waterman algorithm을 이용한 local alignment\n",
    "두 개의 sequence 에서 가장 잘 정렬 되는 부분을 찾는 방법 \n",
    "\n",
    "[위키페디아](https://en.wikipedia.org/wiki/Smith%E2%80%93Waterman_algorithm)\n"
   ]
  },
  {
   "cell_type": "code",
   "execution_count": 45,
   "metadata": {
    "collapsed": false
   },
   "outputs": [
    {
     "data": {
      "text/plain": [
       "Local PairwiseAlignmentsSingleSubject (1 of 1)\n",
       "pattern:  [1] MTNRTLSREEIRKLDRDLRILVATNGTLTRVLNVV...IITTEYFLRSVFQDTPREELDRCQYSNDIDTRSG \n",
       "subject: [11] MTECHLSDEEIRKLNRDLRILIATNGTLTRILNVL...IIITEYFLRSVFEDNSREEPIRHQRSVGTSARSG \n",
       "score: 761 "
      ]
     },
     "metadata": {},
     "output_type": "display_data"
    },
    {
     "name": "stdout",
     "output_type": "stream",
     "text": [
      "[1] \"MTNRTLSREEIRKLDRDLRILVATNGTLTRVLNVVANEEIVVDIINQQLLDVAPKIPELE 60\"\n",
      "[1] \"MTECHLSDEEIRKLNRDLRILIATNGTLTRILNVLANDEIVVEIVKQQIQDAAPEMDGCD 60\"\n",
      "[1] \" \"\n",
      "[1] \"NLKIGRILQRDILLKGQKSGILFVAAESLIVIDLLPTAITTYLTKTHHPIGEIMAASRIE 120\"\n",
      "[1] \"HSSIGRVLRRDIVLKGRRSGIPFVAAESFIAIDLLPPEIVASLLETHRPIGEVMAASCIE 120\"\n",
      "[1] \" \"\n",
      "[1] \"TYKEDAQVWIGDLPCWLADYGYWDLPKRAVGRRYRIIAGGQPVIITTEYFLRSVFQDTPR 180\"\n",
      "[1] \"TFKEEAKVWAGESPAWLELDRRRNLPPKVVGRQYRVIAEGRPVIIITEYFLRSVFEDNSR 180\"\n",
      "[1] \" \"\n",
      "[1] \"EELDRCQYSNDIDTRSG 240\"\n",
      "[1] \"EEPIRHQRSVGTSARSG 240\"\n",
      "[1] \" \"\n"
     ]
    }
   ],
   "source": [
    "localAlignLepraeUlcerans <- pairwiseAlignment(lepraeseqstring, ulceransseqstring,substitutionMatrix = BLOSUM50, gapOpening = -2, gapExtension = -8, scoreOnly = FALSE, type=\"local\")\n",
    "localAlignLepraeUlcerans # Print out the optimal local alignment and its score\n",
    "printPairwiseAlignment(localAlignLepraeUlcerans, 60)"
   ]
  },
  {
   "cell_type": "markdown",
   "metadata": {},
   "source": [
    "### alignment score에 대한 통계적 significance 계산\n",
    "같은 길이의 random 서열을 만들고 이에 비해 얼마나 의미 있는지 확인\n"
   ]
  },
  {
   "cell_type": "code",
   "execution_count": 46,
   "metadata": {
    "collapsed": true
   },
   "outputs": [],
   "source": [
    "generateSeqsWithMultinomialModel <- function(inputsequence, X)\n",
    "  {\n",
    "     # Change the input sequence into a vector of letters\n",
    "     require(\"seqinr\") # This function requires the SeqinR package.\n",
    "     inputsequencevector <- s2c(inputsequence)\n",
    "     # Find the frequencies of the letters in the input sequence \"inputsequencevector\":\n",
    "     mylength <- length(inputsequencevector)\n",
    "     mytable <- table(inputsequencevector)\n",
    "     # Find the names of the letters in the sequence\n",
    "     letters <- rownames(mytable)\n",
    "     numletters <- length(letters)\n",
    "     probabilities <- numeric() # Make a vector to store the probabilities of letters\n",
    "     for (i in 1:numletters)\n",
    "     {\n",
    "        letter <- letters[i]\n",
    "        count <- mytable[[i]]\n",
    "        probabilities[i] <- count/mylength\n",
    "     }\n",
    "     # Make X random sequences using the multinomial model with probabilities \"probabilities\"\n",
    "     seqs <- numeric(X)\n",
    "     for (j in 1:X)\n",
    "     {\n",
    "        seq <- sample(letters, mylength, rep=TRUE, prob=probabilities) # Sample with replacement\n",
    "        seq <- c2s(seq)\n",
    "        seqs[j] <- seq\n",
    "     }\n",
    "     # Return the vector of random sequences\n",
    "     return(seqs)\n",
    "  }"
   ]
  },
  {
   "cell_type": "code",
   "execution_count": 47,
   "metadata": {
    "collapsed": false
   },
   "outputs": [
    {
     "data": {
      "text/html": [
       "<ol class=list-inline>\n",
       "\t<li>\"EPWWWAA\"</li>\n",
       "\t<li>\"EEAAWEE\"</li>\n",
       "\t<li>\"EHHEPEW\"</li>\n",
       "\t<li>\"EAWPPEE\"</li>\n",
       "\t<li>\"EWPPPWA\"</li>\n",
       "\t<li>\"EAAPEEE\"</li>\n",
       "\t<li>\"WAHPPHH\"</li>\n",
       "\t<li>\"AAAAAHA\"</li>\n",
       "\t<li>\"HWPPWAA\"</li>\n",
       "\t<li>\"HEEWEHE\"</li>\n",
       "</ol>\n"
      ],
      "text/latex": [
       "\\begin{enumerate*}\n",
       "\\item \"EPWWWAA\"\n",
       "\\item \"EEAAWEE\"\n",
       "\\item \"EHHEPEW\"\n",
       "\\item \"EAWPPEE\"\n",
       "\\item \"EWPPPWA\"\n",
       "\\item \"EAAPEEE\"\n",
       "\\item \"WAHPPHH\"\n",
       "\\item \"AAAAAHA\"\n",
       "\\item \"HWPPWAA\"\n",
       "\\item \"HEEWEHE\"\n",
       "\\end{enumerate*}\n"
      ],
      "text/markdown": [
       "1. \"EPWWWAA\"\n",
       "2. \"EEAAWEE\"\n",
       "3. \"EHHEPEW\"\n",
       "4. \"EAWPPEE\"\n",
       "5. \"EWPPPWA\"\n",
       "6. \"EAAPEEE\"\n",
       "7. \"WAHPPHH\"\n",
       "8. \"AAAAAHA\"\n",
       "9. \"HWPPWAA\"\n",
       "10. \"HEEWEHE\"\n",
       "\n",
       "\n"
      ],
      "text/plain": [
       " [1] \"EPWWWAA\" \"EEAAWEE\" \"EHHEPEW\" \"EAWPPEE\" \"EWPPPWA\" \"EAAPEEE\" \"WAHPPHH\"\n",
       " [8] \"AAAAAHA\" \"HWPPWAA\" \"HEEWEHE\""
      ]
     },
     "metadata": {},
     "output_type": "display_data"
    }
   ],
   "source": [
    "randomseqs <- generateSeqsWithMultinomialModel('PAWHEAE',1000)\n",
    "randomseqs[1:10] # Print out the first 10 random sequences"
   ]
  },
  {
   "cell_type": "code",
   "execution_count": 49,
   "metadata": {
    "collapsed": false
   },
   "outputs": [
    {
     "data": {
      "text/plain": [
       "Global PairwiseAlignmentsSingleSubject (1 of 1)\n",
       "pattern: [2] EAGAWGHEE \n",
       "subject: [1] EPWWWA--A \n",
       "score: -15 "
      ]
     },
     "metadata": {},
     "output_type": "display_data"
    },
    {
     "data": {
      "text/html": [
       "-15"
      ],
      "text/latex": [
       "-15"
      ],
      "text/markdown": [
       "-15"
      ],
      "text/plain": [
       "[1] -15"
      ]
     },
     "metadata": {},
     "output_type": "display_data"
    }
   ],
   "source": [
    "s4 <- \"HEAGAWGHEE\"\n",
    "pairwiseAlignment(s4, randomseqs[1], substitutionMatrix = \"BLOSUM50\", gapOpening = -2, gapExtension = -8, scoreOnly = FALSE)\n",
    "pairwiseAlignment(s4, randomseqs[1], substitutionMatrix = \"BLOSUM50\", gapOpening = -2, gapExtension = -8, scoreOnly = TRUE)"
   ]
  },
  {
   "cell_type": "code",
   "execution_count": 56,
   "metadata": {
    "collapsed": true
   },
   "outputs": [],
   "source": [
    "randomscores <- double(1000)\n",
    "for (i in 1:1000)\n",
    "  {\n",
    "     score <- pairwiseAlignment(s4, randomseqs[i], substitutionMatrix = \"BLOSUM50\",\n",
    "       gapOpening = -2, gapExtension = -8, scoreOnly = TRUE)\n",
    "     randomscores[i] <- score\n",
    "  }"
   ]
  },
  {
   "cell_type": "code",
   "execution_count": 57,
   "metadata": {
    "collapsed": false
   },
   "outputs": [
    {
     "data": {
      "image/png": "[encoded data removed]",
      "text/plain": [
       "Plot with title \"Histogram of randomscores\""
      ]
     },
     "metadata": {
      "image/svg+xml": {
       "isolated": true
      }
     },
     "output_type": "display_data"
    }
   ],
   "source": [
    "hist(randomscores, col=\"red\")"
   ]
  },
  {
   "cell_type": "code",
   "execution_count": 60,
   "metadata": {
    "collapsed": false
   },
   "outputs": [
    {
     "data": {
      "text/html": [
       "<ol class=list-inline>\n",
       "\t<li>-15</li>\n",
       "\t<li>15</li>\n",
       "\t<li>-23</li>\n",
       "\t<li>6</li>\n",
       "\t<li>-18</li>\n",
       "\t<li>-4</li>\n",
       "</ol>\n"
      ],
      "text/latex": [
       "\\begin{enumerate*}\n",
       "\\item -15\n",
       "\\item 15\n",
       "\\item -23\n",
       "\\item 6\n",
       "\\item -18\n",
       "\\item -4\n",
       "\\end{enumerate*}\n"
      ],
      "text/markdown": [
       "1. -15\n",
       "2. 15\n",
       "3. -23\n",
       "4. 6\n",
       "5. -18\n",
       "6. -4\n",
       "\n",
       "\n"
      ],
      "text/plain": [
       "[1] -15  15 -23   6 -18  -4"
      ]
     },
     "metadata": {},
     "output_type": "display_data"
    }
   ],
   "source": [
    "head(randomscores)"
   ]
  },
  {
   "cell_type": "code",
   "execution_count": 58,
   "metadata": {
    "collapsed": false
   },
   "outputs": [
    {
     "data": {
      "text/html": [
       "286"
      ],
      "text/latex": [
       "286"
      ],
      "text/markdown": [
       "286"
      ],
      "text/plain": [
       "[1] 286"
      ]
     },
     "metadata": {},
     "output_type": "display_data"
    }
   ],
   "source": [
    "sum(randomscores >= -5)"
   ]
  },
  {
   "cell_type": "code",
   "execution_count": 62,
   "metadata": {
    "collapsed": false
   },
   "outputs": [
    {
     "data": {
      "text/html": [
       "0.286"
      ],
      "text/latex": [
       "0.286"
      ],
      "text/markdown": [
       "0.286"
      ],
      "text/plain": [
       "[1] 0.286"
      ]
     },
     "metadata": {},
     "output_type": "display_data"
    }
   ],
   "source": [
    "pvalue <- sum(randomscores >= -5) / length(randomscores)\n",
    "pvalue"
   ]
  },
  {
   "cell_type": "code",
   "execution_count": 65,
   "metadata": {
    "collapsed": false
   },
   "outputs": [
    {
     "data": {
      "text/html": [
       "0.588794888504917"
      ],
      "text/latex": [
       "0.588794888504917"
      ],
      "text/markdown": [
       "0.588794888504917"
      ],
      "text/plain": [
       "[1] 0.5887949"
      ]
     },
     "metadata": {},
     "output_type": "display_data"
    }
   ],
   "source": [
    "mu <- mean(randomscores)\n",
    "sigma <- sd(randomscores)\n",
    "zscore <- (-5-mu)/sigma\n",
    "zscore"
   ]
  },
  {
   "cell_type": "code",
   "execution_count": null,
   "metadata": {
    "collapsed": true
   },
   "outputs": [],
   "source": []
  }
 ],
 "metadata": {
  "anaconda-cloud": {},
  "kernelspec": {
   "display_name": "R",
   "language": "R",
   "name": "ir"
  },
  "language_info": {
   "codemirror_mode": "r",
   "file_extension": ".r",
   "mimetype": "text/x-r-source",
   "name": "R",
   "pygments_lexer": "r",
   "version": "3.3.1"
  }
 },
 "nbformat": 4,
 "nbformat_minor": 0
}
